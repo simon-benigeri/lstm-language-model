{
 "cells": [
  {
   "cell_type": "code",
   "execution_count": 1,
   "id": "related-relative",
   "metadata": {},
   "outputs": [],
   "source": [
    "from lstm import LSTM_Model\n",
    "from data import init_datasets"
   ]
  },
  {
   "cell_type": "code",
   "execution_count": 2,
   "id": "psychological-paradise",
   "metadata": {},
   "outputs": [],
   "source": [
    "topic = 'wiki'\n",
    "path = 'data/corpora/'"
   ]
  },
  {
   "cell_type": "code",
   "execution_count": 3,
   "id": "phantom-nation",
   "metadata": {},
   "outputs": [],
   "source": [
    "batch_size = 20\n",
    "time_steps = 10\n",
    "freq_threshold = 1\n",
    "epochs = 2"
   ]
  },
  {
   "cell_type": "code",
   "execution_count": 5,
   "id": "personalized-location",
   "metadata": {},
   "outputs": [],
   "source": [
    "from data import _init_corpora\n",
    "train, valid, test, vocab = _init_corpora(path=path, topic=topic, freq_threshold=freq_threshold)"
   ]
  },
  {
   "cell_type": "code",
   "execution_count": 9,
   "id": "demonstrated-envelope",
   "metadata": {},
   "outputs": [],
   "source": [
    "train_t = train.reshape(-1, 1)\n",
    "valid_t = valid.reshape(-1, 1)\n",
    "test_t = test.reshape(-1, 1)"
   ]
  },
  {
   "cell_type": "code",
   "execution_count": 35,
   "id": "cognitive-montreal",
   "metadata": {},
   "outputs": [
    {
     "data": {
      "text/plain": [
       "(237728,)"
      ]
     },
     "execution_count": 35,
     "metadata": {},
     "output_type": "execute_result"
    }
   ],
   "source": [
    "test.shape"
   ]
  },
  {
   "cell_type": "code",
   "execution_count": 10,
   "id": "fantastic-tomorrow",
   "metadata": {},
   "outputs": [],
   "source": [
    "import torch\n",
    "from torch.nn.utils.rnn import pad_sequence\n",
    "from torch.utils.data import Dataset, DataLoader"
   ]
  },
  {
   "cell_type": "code",
   "execution_count": 11,
   "id": "listed-ministry",
   "metadata": {},
   "outputs": [],
   "source": [
    "TEST = torch.LongTensor(test)\n",
    "TEST_T = torch.LongTensor(test_t)"
   ]
  },
  {
   "cell_type": "code",
   "execution_count": 12,
   "id": "automated-shuttle",
   "metadata": {},
   "outputs": [],
   "source": [
    "time_steps=10"
   ]
  },
  {
   "cell_type": "code",
   "execution_count": 13,
   "id": "baking-satisfaction",
   "metadata": {},
   "outputs": [],
   "source": [
    "TEST = torch.split(tensor=TEST, split_size_or_sections=time_steps)\n",
    "TEST_T = torch.split(tensor=TEST_T, split_size_or_sections=time_steps)"
   ]
  },
  {
   "cell_type": "code",
   "execution_count": 17,
   "id": "literary-amateur",
   "metadata": {},
   "outputs": [
    {
     "data": {
      "text/plain": [
       "(tensor([22468,  1419, 22468,  1419, 14173,  2341,  9468, 10537,    77, 25899]),\n",
       " tensor([ 2378, 26059,  1685,    80, 12467, 12169,  1430, 12068,  1423, 24769]),\n",
       " tensor([22522, 18627, 26054, 25899, 23485, 26054,  3950, 13465,   797,    80]))"
      ]
     },
     "execution_count": 17,
     "metadata": {},
     "output_type": "execute_result"
    }
   ],
   "source": [
    "TEST[:3]"
   ]
  },
  {
   "cell_type": "code",
   "execution_count": 18,
   "id": "agricultural-encounter",
   "metadata": {},
   "outputs": [
    {
     "data": {
      "text/plain": [
       "(tensor([[22468],\n",
       "         [ 1419],\n",
       "         [22468],\n",
       "         [ 1419],\n",
       "         [14173],\n",
       "         [ 2341],\n",
       "         [ 9468],\n",
       "         [10537],\n",
       "         [   77],\n",
       "         [25899]]),\n",
       " tensor([[ 2378],\n",
       "         [26059],\n",
       "         [ 1685],\n",
       "         [   80],\n",
       "         [12467],\n",
       "         [12169],\n",
       "         [ 1430],\n",
       "         [12068],\n",
       "         [ 1423],\n",
       "         [24769]]),\n",
       " tensor([[22522],\n",
       "         [18627],\n",
       "         [26054],\n",
       "         [25899],\n",
       "         [23485],\n",
       "         [26054],\n",
       "         [ 3950],\n",
       "         [13465],\n",
       "         [  797],\n",
       "         [   80]]))"
      ]
     },
     "execution_count": 18,
     "metadata": {},
     "output_type": "execute_result"
    }
   ],
   "source": [
    "TEST_T[:3]"
   ]
  },
  {
   "cell_type": "code",
   "execution_count": 20,
   "id": "enhanced-aerospace",
   "metadata": {},
   "outputs": [],
   "source": [
    "TEST_seq = pad_sequence(TEST, batch_first=True, padding_value=0)"
   ]
  },
  {
   "cell_type": "code",
   "execution_count": 21,
   "id": "alien-outside",
   "metadata": {},
   "outputs": [],
   "source": [
    "TEST_T_seq = pad_sequence(TEST_T, batch_first=True, padding_value=0)"
   ]
  },
  {
   "cell_type": "code",
   "execution_count": 23,
   "id": "neural-canal",
   "metadata": {},
   "outputs": [
    {
     "data": {
      "text/plain": [
       "tensor([[15502,  7717, 18542,  7105,    77, 26313, 12434, 23496,  2866, 17241],\n",
       "        [10880, 10291,  9056,    77, 13514, 22559,  2150,    77,  9054, 25836],\n",
       "        [   77,  9054, 19242,    77,  2378,  9056,  1419,    80,     0,     0]])"
      ]
     },
     "execution_count": 23,
     "metadata": {},
     "output_type": "execute_result"
    }
   ],
   "source": [
    "TEST_seq[-3:]"
   ]
  },
  {
   "cell_type": "code",
   "execution_count": 24,
   "id": "subsequent-priority",
   "metadata": {},
   "outputs": [
    {
     "data": {
      "text/plain": [
       "tensor([[[15502],\n",
       "         [ 7717],\n",
       "         [18542],\n",
       "         [ 7105],\n",
       "         [   77],\n",
       "         [26313],\n",
       "         [12434],\n",
       "         [23496],\n",
       "         [ 2866],\n",
       "         [17241]],\n",
       "\n",
       "        [[10880],\n",
       "         [10291],\n",
       "         [ 9056],\n",
       "         [   77],\n",
       "         [13514],\n",
       "         [22559],\n",
       "         [ 2150],\n",
       "         [   77],\n",
       "         [ 9054],\n",
       "         [25836]],\n",
       "\n",
       "        [[   77],\n",
       "         [ 9054],\n",
       "         [19242],\n",
       "         [   77],\n",
       "         [ 2378],\n",
       "         [ 9056],\n",
       "         [ 1419],\n",
       "         [   80],\n",
       "         [    0],\n",
       "         [    0]]])"
      ]
     },
     "execution_count": 24,
     "metadata": {},
     "output_type": "execute_result"
    }
   ],
   "source": [
    "TEST_T_seq[-3:]"
   ]
  },
  {
   "cell_type": "code",
   "execution_count": 26,
   "id": "banned-interval",
   "metadata": {},
   "outputs": [],
   "source": [
    "TEST_seq_i = TEST_seq.narrow_copy(1, 0, TEST_seq.shape[1] - 1)\n",
    "TEST_seq_o = TEST_seq.narrow_copy(1, 1, TEST_seq.shape[1] - 1)"
   ]
  },
  {
   "cell_type": "code",
   "execution_count": 27,
   "id": "superior-morning",
   "metadata": {},
   "outputs": [
    {
     "data": {
      "text/plain": [
       "tensor([[15502,  7717, 18542,  7105,    77, 26313, 12434, 23496,  2866],\n",
       "        [10880, 10291,  9056,    77, 13514, 22559,  2150,    77,  9054],\n",
       "        [   77,  9054, 19242,    77,  2378,  9056,  1419,    80,     0]])"
      ]
     },
     "execution_count": 27,
     "metadata": {},
     "output_type": "execute_result"
    }
   ],
   "source": [
    "TEST_seq_i[-3:]"
   ]
  },
  {
   "cell_type": "code",
   "execution_count": 29,
   "id": "promotional-jason",
   "metadata": {},
   "outputs": [
    {
     "data": {
      "text/plain": [
       "tensor([[ 7717, 18542,  7105,    77, 26313, 12434, 23496,  2866, 17241],\n",
       "        [10291,  9056,    77, 13514, 22559,  2150,    77,  9054, 25836],\n",
       "        [ 9054, 19242,    77,  2378,  9056,  1419,    80,     0,     0]])"
      ]
     },
     "execution_count": 29,
     "metadata": {},
     "output_type": "execute_result"
    }
   ],
   "source": [
    "TEST_seq_o[-3:]"
   ]
  },
  {
   "cell_type": "code",
   "execution_count": 30,
   "id": "electrical-efficiency",
   "metadata": {},
   "outputs": [],
   "source": [
    "TEST_T_seq_i = TEST_T_seq.narrow_copy(1, 0, TEST_T_seq.shape[1] - 1)\n",
    "TEST_T_seq_o = TEST_T_seq.narrow_copy(1, 1, TEST_T_seq.shape[1] - 1)"
   ]
  },
  {
   "cell_type": "code",
   "execution_count": 31,
   "id": "imposed-heritage",
   "metadata": {},
   "outputs": [
    {
     "data": {
      "text/plain": [
       "tensor([[[15502],\n",
       "         [ 7717],\n",
       "         [18542],\n",
       "         [ 7105],\n",
       "         [   77],\n",
       "         [26313],\n",
       "         [12434],\n",
       "         [23496],\n",
       "         [ 2866]],\n",
       "\n",
       "        [[10880],\n",
       "         [10291],\n",
       "         [ 9056],\n",
       "         [   77],\n",
       "         [13514],\n",
       "         [22559],\n",
       "         [ 2150],\n",
       "         [   77],\n",
       "         [ 9054]],\n",
       "\n",
       "        [[   77],\n",
       "         [ 9054],\n",
       "         [19242],\n",
       "         [   77],\n",
       "         [ 2378],\n",
       "         [ 9056],\n",
       "         [ 1419],\n",
       "         [   80],\n",
       "         [    0]]])"
      ]
     },
     "execution_count": 31,
     "metadata": {},
     "output_type": "execute_result"
    }
   ],
   "source": [
    "TEST_T_seq_i[-3:]"
   ]
  },
  {
   "cell_type": "code",
   "execution_count": 32,
   "id": "liked-shoot",
   "metadata": {},
   "outputs": [
    {
     "data": {
      "text/plain": [
       "tensor([[[ 7717],\n",
       "         [18542],\n",
       "         [ 7105],\n",
       "         [   77],\n",
       "         [26313],\n",
       "         [12434],\n",
       "         [23496],\n",
       "         [ 2866],\n",
       "         [17241]],\n",
       "\n",
       "        [[10291],\n",
       "         [ 9056],\n",
       "         [   77],\n",
       "         [13514],\n",
       "         [22559],\n",
       "         [ 2150],\n",
       "         [   77],\n",
       "         [ 9054],\n",
       "         [25836]],\n",
       "\n",
       "        [[ 9054],\n",
       "         [19242],\n",
       "         [   77],\n",
       "         [ 2378],\n",
       "         [ 9056],\n",
       "         [ 1419],\n",
       "         [   80],\n",
       "         [    0],\n",
       "         [    0]]])"
      ]
     },
     "execution_count": 32,
     "metadata": {},
     "output_type": "execute_result"
    }
   ],
   "source": [
    "TEST_T_seq_o[-3:]"
   ]
  },
  {
   "cell_type": "code",
   "execution_count": 39,
   "id": "becoming-example",
   "metadata": {},
   "outputs": [
    {
     "data": {
      "text/plain": [
       "torch.Size([23773, 9])"
      ]
     },
     "execution_count": 39,
     "metadata": {},
     "output_type": "execute_result"
    }
   ],
   "source": [
    "TEST_seq_i.size()"
   ]
  },
  {
   "cell_type": "code",
   "execution_count": 40,
   "id": "loaded-authority",
   "metadata": {},
   "outputs": [
    {
     "data": {
      "text/plain": [
       "torch.Size([23773, 9, 1])"
      ]
     },
     "execution_count": 40,
     "metadata": {},
     "output_type": "execute_result"
    }
   ],
   "source": [
    "TEST_T_seq_i.size()"
   ]
  },
  {
   "cell_type": "code",
   "execution_count": null,
   "id": "radical-crown",
   "metadata": {},
   "outputs": [],
   "source": [
    "data = torch.LongTensor(data)\n",
    "# split tensor into tensors of of size time_steps\n",
    "data = torch.split(tensor=data, split_size_or_sections=time_steps)\n",
    "\n",
    "# note: word2index['<pad>'] = 0\n",
    "sequences = pad_sequence(data, batch_first=True, padding_value=0)\n",
    "\n",
    "# from seq we generate 2 copies.\n",
    "# inputs=seq[:-1], targets=seq[1:]\n",
    "sequences_inputs = sequences.narrow_copy(1, 0, sequences.shape[1] - 1)\n",
    "sequences_targets = sequences.narrow_copy(1, 1, sequences.shape[1] - 1)"
   ]
  },
  {
   "cell_type": "code",
   "execution_count": 4,
   "id": "basic-julian",
   "metadata": {},
   "outputs": [],
   "source": [
    "datasets = init_datasets(topic=topic, \n",
    "                         freq_threshold=freq_threshold, \n",
    "                         time_steps=time_steps, \n",
    "                         batch_size=batch_size, \n",
    "                         path=path)"
   ]
  },
  {
   "cell_type": "code",
   "execution_count": 5,
   "id": "conventional-error",
   "metadata": {},
   "outputs": [],
   "source": [
    "vocab_size = datasets['vocab_size']\n",
    "word2index = datasets['word2index']\n",
    "data_loaders = datasets['data_loaders']"
   ]
  },
  {
   "cell_type": "code",
   "execution_count": 6,
   "id": "million-treat",
   "metadata": {},
   "outputs": [],
   "source": [
    "train, valid, test = data_loaders"
   ]
  },
  {
   "cell_type": "code",
   "execution_count": 23,
   "id": "frank-exploration",
   "metadata": {},
   "outputs": [
    {
     "data": {
      "text/plain": [
       "{'dataset': <data.Sequence_Data at 0x7f995dc6da90>,\n",
       " 'num_workers': 0,\n",
       " 'prefetch_factor': 2,\n",
       " 'pin_memory': False,\n",
       " 'timeout': 0,\n",
       " 'worker_init_fn': None,\n",
       " '_DataLoader__multiprocessing_context': None,\n",
       " '_dataset_kind': 0,\n",
       " 'batch_size': 20,\n",
       " 'drop_last': False,\n",
       " 'sampler': <torch.utils.data.sampler.RandomSampler at 0x7f995c43c670>,\n",
       " 'batch_sampler': <torch.utils.data.sampler.BatchSampler at 0x7f995c42c4f0>,\n",
       " 'generator': None,\n",
       " 'collate_fn': <function torch.utils.data._utils.collate.default_collate(batch)>,\n",
       " 'persistent_workers': False,\n",
       " '_DataLoader__initialized': True,\n",
       " '_IterableDataset_len_called': None,\n",
       " '_iterator': None}"
      ]
     },
     "execution_count": 23,
     "metadata": {},
     "output_type": "execute_result"
    }
   ],
   "source": [
    "train.__dict__"
   ]
  },
  {
   "cell_type": "code",
   "execution_count": 24,
   "id": "fuzzy-fleet",
   "metadata": {},
   "outputs": [],
   "source": [
    "x = next(iter(train))"
   ]
  },
  {
   "cell_type": "code",
   "execution_count": 29,
   "id": "excess-equity",
   "metadata": {},
   "outputs": [
    {
     "data": {
      "text/plain": [
       "torch.Size([20, 9])"
      ]
     },
     "execution_count": 29,
     "metadata": {},
     "output_type": "execute_result"
    }
   ],
   "source": [
    "x[0].size()"
   ]
  },
  {
   "cell_type": "code",
   "execution_count": 8,
   "id": "independent-republican",
   "metadata": {},
   "outputs": [
    {
     "data": {
      "text/plain": [
       "{'x': tensor([[27455,  5710, 13303,  ...,   947,  1415,  1419],\n",
       "         [   73, 14328,  1415,  ...,    80, 27455, 18542],\n",
       "         [ 3600,   947,    74,  ..., 26313,  2866, 27455],\n",
       "         ...,\n",
       "         [14227, 23784,  3633,  ..., 25935,    77, 13024],\n",
       "         [26051, 16618,  3633,  ..., 28195,  6893, 20420],\n",
       "         [14227, 16618, 24915,  ...,  2341,  1654, 25804]]),\n",
       " 'y': tensor([[ 5710, 13303, 23416,  ...,  1415,  1419,  5710],\n",
       "         [14328,  1415, 28906,  ..., 27455, 18542, 26054],\n",
       "         [  947,    74,    77,  ...,  2866, 27455,  5710],\n",
       "         ...,\n",
       "         [23784,  3633,  1419,  ...,    77, 13024, 15856],\n",
       "         [16618,  3633,     2,  ...,  6893, 20420,    77],\n",
       "         [16618, 24915,  3633,  ...,  1654, 25804,    80]]),\n",
       " 'len': 202234}"
      ]
     },
     "execution_count": 8,
     "metadata": {},
     "output_type": "execute_result"
    }
   ],
   "source": [
    "train.dataset.__dict__"
   ]
  },
  {
   "cell_type": "code",
   "execution_count": 14,
   "id": "cloudy-camcorder",
   "metadata": {},
   "outputs": [
    {
     "data": {
      "text/plain": [
       "{'x': tensor([[27455,  5710, 13303,  ...,   947,  1415,  1419],\n",
       "         [   73, 14328,  1415,  ...,    80, 27455, 18542],\n",
       "         [ 3600,   947,    74,  ..., 26313,  2866, 27455],\n",
       "         ...,\n",
       "         [14227, 23784,  3633,  ..., 25935,    77, 13024],\n",
       "         [26051, 16618,  3633,  ..., 28195,  6893, 20420],\n",
       "         [14227, 16618, 24915,  ...,  2341,  1654, 25804]]),\n",
       " 'y': tensor([[ 5710, 13303, 23416,  ...,  1415,  1419,  5710],\n",
       "         [14328,  1415, 28906,  ..., 27455, 18542, 26054],\n",
       "         [  947,    74,    77,  ...,  2866, 27455,  5710],\n",
       "         ...,\n",
       "         [23784,  3633,  1419,  ...,    77, 13024, 15856],\n",
       "         [16618,  3633,     2,  ...,  6893, 20420,    77],\n",
       "         [16618, 24915,  3633,  ...,  1654, 25804,    80]]),\n",
       " 'len': 202234}"
      ]
     },
     "execution_count": 14,
     "metadata": {},
     "output_type": "execute_result"
    }
   ],
   "source": [
    "train.batch_sampler.sampler.data_source.__dict__"
   ]
  },
  {
   "cell_type": "code",
   "execution_count": 10,
   "id": "creative-origin",
   "metadata": {},
   "outputs": [
    {
     "data": {
      "text/plain": [
       "torch.Size([202234, 9])"
      ]
     },
     "execution_count": 10,
     "metadata": {},
     "output_type": "execute_result"
    }
   ],
   "source": [
    "train.dataset.x.size()"
   ]
  },
  {
   "cell_type": "code",
   "execution_count": 20,
   "id": "governing-saskatchewan",
   "metadata": {},
   "outputs": [
    {
     "data": {
      "text/plain": [
       "tensor([[27455],\n",
       "        [ 5710],\n",
       "        [13303],\n",
       "        [23416],\n",
       "        [18165],\n",
       "        [27455],\n",
       "        [  947],\n",
       "        [ 1415],\n",
       "        [ 1419]])"
      ]
     },
     "execution_count": 20,
     "metadata": {},
     "output_type": "execute_result"
    }
   ],
   "source": [
    "train.dataset.x[0].view(-1, 1)"
   ]
  }
 ],
 "metadata": {
  "kernelspec": {
   "display_name": "Python 3",
   "language": "python",
   "name": "python3"
  },
  "language_info": {
   "codemirror_mode": {
    "name": "ipython",
    "version": 3
   },
   "file_extension": ".py",
   "mimetype": "text/x-python",
   "name": "python",
   "nbconvert_exporter": "python",
   "pygments_lexer": "ipython3",
   "version": "3.8.5"
  }
 },
 "nbformat": 4,
 "nbformat_minor": 5
}
