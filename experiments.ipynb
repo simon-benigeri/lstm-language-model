{
 "cells": [
  {
   "cell_type": "code",
   "execution_count": 8,
   "id": "mobile-cinema",
   "metadata": {},
   "outputs": [],
   "source": [
    "from data import _init_corpora"
   ]
  },
  {
   "cell_type": "code",
   "execution_count": 9,
   "id": "sharp-helping",
   "metadata": {},
   "outputs": [],
   "source": [
    "PATH = 'data/small_test_corpora'\n",
    "TOPIC = 'nyt_covid'\n",
    "batch_size = 2\n",
    "time_steps = 20\n",
    "freq_threshold = 3\n",
    "epochs = 1"
   ]
  },
  {
   "cell_type": "code",
   "execution_count": 10,
   "id": "loved-traffic",
   "metadata": {},
   "outputs": [],
   "source": [
    "train, valid, test, vocab_dict = _init_corpora(PATH, TOPIC, freq_threshold)"
   ]
  },
  {
   "cell_type": "code",
   "execution_count": 11,
   "id": "sized-hunger",
   "metadata": {},
   "outputs": [
    {
     "data": {
      "text/plain": [
       "array([ 4, 10,  4,  4,  4, 18,  4, 13,  4,  4,  4, 17,  4,  8,  4,  4,  4,\n",
       "        4,  4,  4,  2,  3,  4,  5,  4,  4, 13,  4,  4,  4,  4,  4,  4,  4,\n",
       "       18,  4, 17,  4,  2,  3, 17,  4,  4,  4,  4,  4,  4,  4,  4,  1, 17,\n",
       "        4,  4,  4,  4,  4,  4, 14,  4,  4,  4,  1,  7,  4,  4,  4,  4,  4,\n",
       "        2,  3,  4,  4,  4, 13, 17,  4,  1,  4,  8,  4,  4, 18,  4,  4,  4,\n",
       "        4,  2,  3,  4,  4,  4,  4,  4,  4,  4,  4,  4, 18,  4,  1,  4,  4,\n",
       "        4,  4,  4,  4,  4, 13,  4,  4,  4,  4,  7,  4,  4,  1,  4,  4,  4,\n",
       "        4,  4,  4,  4,  4,  2,  3])"
      ]
     },
     "execution_count": 11,
     "metadata": {},
     "output_type": "execute_result"
    }
   ],
   "source": [
    "test"
   ]
  },
  {
   "cell_type": "code",
   "execution_count": 28,
   "id": "cubic-battlefield",
   "metadata": {},
   "outputs": [],
   "source": [
    "def minibatch(data, batch_size, seq_length):\n",
    "    data = torch.tensor(data, dtype = torch.int64)\n",
    "    num_batches = data.size(0)//batch_size\n",
    "    data = data[:num_batches*batch_size]\n",
    "    data=data.view(batch_size,-1)\n",
    "    dataset = []\n",
    "    for i in range(0,data.size(1)-1,seq_length):\n",
    "        seqlen=int(np.min([seq_length,data.size(1)-1-i]))\n",
    "        if seqlen<data.size(1)-1-i:\n",
    "            x=data[:,i:i+seqlen].transpose(1, 0)\n",
    "            y=data[:,i+1:i+seqlen+1].transpose(1, 0)\n",
    "            dataset.append((x, y))\n",
    "    return dataset"
   ]
  },
  {
   "cell_type": "code",
   "execution_count": 34,
   "id": "applicable-medium",
   "metadata": {},
   "outputs": [
    {
     "data": {
      "text/plain": [
       "[tensor([[ 4],\n",
       "         [10],\n",
       "         [ 4],\n",
       "         [ 4],\n",
       "         [ 4],\n",
       "         [18]]),\n",
       " tensor([[ 4],\n",
       "         [13],\n",
       "         [ 4],\n",
       "         [ 4],\n",
       "         [ 4],\n",
       "         [17]]),\n",
       " tensor([[4],\n",
       "         [8],\n",
       "         [4],\n",
       "         [4],\n",
       "         [4],\n",
       "         [4]]),\n",
       " tensor([[4],\n",
       "         [4],\n",
       "         [2],\n",
       "         [3],\n",
       "         [4],\n",
       "         [5]]),\n",
       " tensor([[ 4],\n",
       "         [ 4],\n",
       "         [13],\n",
       "         [ 4],\n",
       "         [ 4],\n",
       "         [ 4]]),\n",
       " tensor([[ 4],\n",
       "         [ 4],\n",
       "         [ 4],\n",
       "         [ 4],\n",
       "         [18],\n",
       "         [ 4]]),\n",
       " tensor([[17],\n",
       "         [ 4],\n",
       "         [ 2],\n",
       "         [ 3],\n",
       "         [17],\n",
       "         [ 4]]),\n",
       " tensor([[4],\n",
       "         [4],\n",
       "         [4],\n",
       "         [4],\n",
       "         [4],\n",
       "         [4]]),\n",
       " tensor([[ 4],\n",
       "         [ 1],\n",
       "         [17],\n",
       "         [ 4],\n",
       "         [ 4],\n",
       "         [ 4]]),\n",
       " tensor([[ 4],\n",
       "         [ 4],\n",
       "         [ 4],\n",
       "         [14],\n",
       "         [ 4],\n",
       "         [ 4]]),\n",
       " tensor([[4],\n",
       "         [1],\n",
       "         [7],\n",
       "         [4],\n",
       "         [4],\n",
       "         [4]]),\n",
       " tensor([[4],\n",
       "         [4],\n",
       "         [2],\n",
       "         [3],\n",
       "         [4],\n",
       "         [4]]),\n",
       " tensor([[ 4],\n",
       "         [13],\n",
       "         [17],\n",
       "         [ 4],\n",
       "         [ 1],\n",
       "         [ 4]]),\n",
       " tensor([[ 8],\n",
       "         [ 4],\n",
       "         [ 4],\n",
       "         [18],\n",
       "         [ 4],\n",
       "         [ 4]]),\n",
       " tensor([[4],\n",
       "         [4],\n",
       "         [2],\n",
       "         [3],\n",
       "         [4],\n",
       "         [4]]),\n",
       " tensor([[4],\n",
       "         [4],\n",
       "         [4],\n",
       "         [4],\n",
       "         [4],\n",
       "         [4]]),\n",
       " tensor([[ 4],\n",
       "         [18],\n",
       "         [ 4],\n",
       "         [ 1],\n",
       "         [ 4],\n",
       "         [ 4]]),\n",
       " tensor([[ 4],\n",
       "         [ 4],\n",
       "         [ 4],\n",
       "         [ 4],\n",
       "         [ 4],\n",
       "         [13]]),\n",
       " tensor([[4],\n",
       "         [4],\n",
       "         [4],\n",
       "         [4],\n",
       "         [7],\n",
       "         [4]]),\n",
       " tensor([[4],\n",
       "         [1],\n",
       "         [4],\n",
       "         [4],\n",
       "         [4],\n",
       "         [4]])]"
      ]
     },
     "execution_count": 34,
     "metadata": {},
     "output_type": "execute_result"
    }
   ],
   "source": [
    "d = minibatch(test, 1, 6)\n",
    "d\n"
   ]
  }
 ],
 "metadata": {
  "kernelspec": {
   "display_name": "Python 3",
   "language": "python",
   "name": "python3"
  },
  "language_info": {
   "codemirror_mode": {
    "name": "ipython",
    "version": 3
   },
   "file_extension": ".py",
   "mimetype": "text/x-python",
   "name": "python",
   "nbconvert_exporter": "python",
   "pygments_lexer": "ipython3",
   "version": "3.8.5"
  }
 },
 "nbformat": 4,
 "nbformat_minor": 5
}
